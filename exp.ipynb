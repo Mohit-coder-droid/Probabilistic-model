{
 "cells": [
  {
   "cell_type": "code",
   "execution_count": null,
   "id": "5e25a5f8",
   "metadata": {},
   "outputs": [],
   "source": [
    "from utils import *\n",
    "from probabilistic_models import *"
   ]
  },
  {
   "cell_type": "markdown",
   "id": "60f984ad",
   "metadata": {},
   "source": [
    "## Loading Datasets"
   ]
  },
  {
   "cell_type": "code",
   "execution_count": 13,
   "id": "3d89bdb0",
   "metadata": {},
   "outputs": [],
   "source": [
    "df_1 = pd.read_excel(r\"D:\\Study\\Python\\Projects\\Paul Project\\vendor1.xlsx\")\n",
    "df_2 = pd.read_excel(r\"D:\\Study\\Python\\Projects\\Paul Project\\vendor2.xlsx\")"
   ]
  },
  {
   "cell_type": "code",
   "execution_count": 14,
   "id": "569a3ef4",
   "metadata": {},
   "outputs": [],
   "source": [
    "data = pd.concat([df_1, df_2], ignore_index=True)\n",
    "df,df_dict = df_processor(data)"
   ]
  },
  {
   "cell_type": "code",
   "execution_count": 15,
   "id": "4317cef2",
   "metadata": {},
   "outputs": [],
   "source": [
    "X_values = df['Inverse_Temp'].values\n",
    "Y_values = df['Mpa'].values"
   ]
  },
  {
   "cell_type": "markdown",
   "id": "2edebd47",
   "metadata": {},
   "source": [
    "## Weibull Model"
   ]
  },
  {
   "cell_type": "code",
   "execution_count": 19,
   "id": "2c070429",
   "metadata": {},
   "outputs": [
    {
     "data": {
      "text/plain": [
       "(5.89755456074455, 0.02332859854794873, 25.755298576718157)"
      ]
     },
     "execution_count": 19,
     "metadata": {},
     "output_type": "execute_result"
    }
   ],
   "source": [
    "weibull = WeibullModel(X_values, Y_values)\n",
    "weibull.intercept,weibull.slope, weibull.shape"
   ]
  },
  {
   "cell_type": "markdown",
   "id": "4e08b3ce",
   "metadata": {},
   "source": [
    "## LogNormal Model"
   ]
  },
  {
   "cell_type": "code",
   "execution_count": 20,
   "id": "ddbe1899",
   "metadata": {},
   "outputs": [
    {
     "data": {
      "text/plain": [
       "(5.859842293281658, 0.024157582221448693, 0.03864222350319222)"
      ]
     },
     "execution_count": 20,
     "metadata": {},
     "output_type": "execute_result"
    }
   ],
   "source": [
    "lognormal = LognormalModel(X_values, Y_values)\n",
    "lognormal.k, lognormal.m, lognormal.sigma"
   ]
  },
  {
   "cell_type": "code",
   "execution_count": null,
   "id": "99e21604",
   "metadata": {},
   "outputs": [],
   "source": [
    "# def plot_different_cdf(df_4,cdf,u,w, df,name, cdf_formula, model_name):\n",
    "def plot_different_cdf(model,data_frames, cdf_values,name, cdf_formula, model_name):\n",
    "    temperature_values = np.linspace(10, 600, 100)\n",
    "\n",
    "    fig, ax = plt.subplots(figsize=(8,6))\n",
    "\n",
    "    # for (name,df) in selected_files.items():\n",
    "    #     ax.scatter(df[\"Temperature\"], df[\"YS\"], edgecolors='black', alpha=0.7, s=30, label=f\"{name}\")\n",
    "\n",
    "    if st.checkbox(f\"✔️ Show Different CDF values\", value=True, key=f\"{model_name}_cdf_check\"):\n",
    "        for i in range(len(cdf)):\n",
    "            ys_predicted_cdf = cdf_formula(temperature_values, shape, u, w, cdf[i])\n",
    "            ax.plot(temperature_values, ys_predicted_cdf, linestyle=\"-\", linewidth=1, label=f\"Predicted YS (CDF={cdf[i]})\")\n",
    "\n",
    "    var_cdf = st.slider(\"Select CDF value\", min_value=0.01, max_value=0.99, value=0.5, step=0.01, key=f\"{model_name}_slider\")\n",
    "    ys_predicted_cdf = cdf_formula(temperature_values, shape, u, w, var_cdf)\n",
    "    ax.plot(temperature_values, ys_predicted_cdf, linestyle=\"-\", linewidth=2, label=f\"Predicted YS (Selected CDF={var_cdf})\")\n",
    "\n",
    "    ax.set_xlabel(\"Temperature (°C)\", fontsize=12, fontweight=\"bold\")\n",
    "    ax.set_ylabel(\"Yield Stress (YS)\", fontsize=12, fontweight=\"bold\")\n",
    "    ax.set_title(\"Yield Stress vs. Temperature Comparison\", fontsize=14, fontweight=\"bold\")\n",
    "    ax.legend()\n",
    "    st.pyplot(fig)"
   ]
  },
  {
   "cell_type": "markdown",
   "id": "845cc67d",
   "metadata": {},
   "source": [
    "def plot_different_cdf(df_4,cdf,u,w, df,name, cdf_formula, model_name):\n",
    "    shape = np.mean(df_4[\"Shape\"])\n",
    "    temperature_values = np.linspace(10, 600, 100)\n",
    "\n",
    "    fig, ax = plt.subplots(figsize=(8,6))\n",
    "\n",
    "    for (name,df) in selected_files.items():\n",
    "        ax.scatter(df[\"Temperature\"], df[\"YS\"], edgecolors='black', alpha=0.7, s=30, label=f\"{name}\")\n",
    "\n",
    "    if st.checkbox(f\"✔️ Show Different CDF values\", value=True, key=f\"{model_name}_cdf_check\"):\n",
    "        for i in range(len(cdf)):\n",
    "            ys_predicted_cdf = cdf_formula(temperature_values, shape, u, w, cdf[i])\n",
    "            ax.plot(temperature_values, ys_predicted_cdf, linestyle=\"-\", linewidth=1, label=f\"Predicted YS (CDF={cdf[i]})\")\n",
    "\n",
    "    var_cdf = st.slider(\"Select CDF value\", min_value=0.01, max_value=0.99, value=0.5, step=0.01, key=f\"{model_name}_slider\")\n",
    "    ys_predicted_cdf = cdf_formula(temperature_values, shape, u, w, var_cdf)\n",
    "    ax.plot(temperature_values, ys_predicted_cdf, linestyle=\"-\", linewidth=2, label=f\"Predicted YS (Selected CDF={var_cdf})\")\n",
    "\n",
    "    ax.set_xlabel(\"Temperature (°C)\", fontsize=12, fontweight=\"bold\")\n",
    "    ax.set_ylabel(\"Yield Stress (YS)\", fontsize=12, fontweight=\"bold\")\n",
    "    ax.set_title(\"Yield Stress vs. Temperature Comparison\", fontsize=14, fontweight=\"bold\")\n",
    "    ax.legend()\n",
    "    st.pyplot(fig)"
   ]
  }
 ],
 "metadata": {
  "kernelspec": {
   "display_name": "Python 3",
   "language": "python",
   "name": "python3"
  },
  "language_info": {
   "codemirror_mode": {
    "name": "ipython",
    "version": 3
   },
   "file_extension": ".py",
   "mimetype": "text/x-python",
   "name": "python",
   "nbconvert_exporter": "python",
   "pygments_lexer": "ipython3",
   "version": "3.11.6"
  }
 },
 "nbformat": 4,
 "nbformat_minor": 5
}
